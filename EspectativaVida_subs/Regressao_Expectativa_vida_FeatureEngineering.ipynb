{
  "cells": [
    {
      "cell_type": "markdown",
      "source": [
        "#Contexto\n",
        "Embora tenha havido muitos estudos realizados no passado sobre fatores que afetam a expectativa de vida, considerando variáveis ​​demográficas, composição de renda e taxas de mortalidade. Verificou-se que o efeito da imunização e o índice de desenvolvimento humano não eram levados em consideração no passado. Além disso, algumas das pesquisas anteriores foram feitas considerando a regressão linear múltipla com base no conjunto de dados de um ano para todos os países. Portanto, isso dá motivação para resolver ambos os fatores mencionados anteriormente, formulando um modelo de regressão baseado no modelo de efeitos mistos e regressão linear múltipla, considerando dados de um período de 2000 a 2015 para todos os países. Imunizações importantes como Hepatite B, Poliomielite e Difteria também serão consideradas. Em poucas palavras, este estudo se concentrará em fatores de imunização, fatores de mortalidade, fatores econômicos, fatores sociais e outros fatores relacionados à saúde também. Como as observações deste conjunto de dados são baseadas em diferentes países, será mais fácil para um país determinar o fator preditivo que está contribuindo para o menor valor da expectativa de vida. Isso ajudará a sugerir a um país qual área deve ser dada importância para melhorar de forma eficiente a expectativa de vida de sua população.\n"
      ],
      "metadata": {
        "id": "zRBmyBBsIaj6"
      },
      "id": "zRBmyBBsIaj6"
    },
    {
      "cell_type": "markdown",
      "source": [
        "#Dados\n",
        "O projeto depende da precisão dos dados. O repositório de dados do Global Health Observatory (GHO) sob a Organização Mundial da Saúde (OMS) acompanha o estado de saúde, bem como muitos outros fatores relacionados para todos os países. Os conjuntos de dados são disponibilizados ao público para fins de análise de dados de saúde. O conjunto de dados relacionados à expectativa de vida e fatores de saúde para 193 países foi coletado do mesmo site de repositório de dados da OMS e seus dados econômicos correspondentes foram coletados do site das Nações Unidas. Entre todas as categorias de fatores relacionados à saúde, foram escolhidos apenas os fatores críticos que são mais representativos. Observou-se que nos últimos 15 anos houve um grande desenvolvimento no setor de saúde, resultando na melhoria das taxas de mortalidade humana, especialmente nas nações em desenvolvimento, em comparação com os últimos 30 anos. Portanto, neste projeto consideramos dados do ano 2000-2015 para 193 países para análise posterior. Os arquivos de dados individuais foram mesclados em um único conjunto de dados. Na inspeção visual inicial dos dados, alguns valores ausentes foram mostrados. Como os conjuntos de dados eram da OMS, não encontramos erros evidentes. Os dados ausentes foram tratados no software R usando o comando Missmap. O resultado indicou que a maioria dos dados faltantes era para população, Hepatite B e PIB. Os dados que faltavam eram de países menos conhecidos como Vanuatu, Tonga, Togo, Cabo Verde, etc. Foi difícil encontrar todos os dados para esses países e, portanto, foi decidido excluir esses países do conjunto de dados do modelo final. O arquivo mesclado final (conjunto de dados final) consiste em 22 colunas e 2.938 linhas, o que significa 20 variáveis ​​de previsão. Todas as variáveis ​​de previsão foram então divididas em várias categorias amplas: fatores relacionados à imunização, fatores de mortalidade, fatores econômicos e fatores sociais.\n"
      ],
      "metadata": {
        "id": "19fl0ks2IhAI"
      },
      "id": "19fl0ks2IhAI"
    },
    {
      "cell_type": "code",
      "execution_count": 2,
      "id": "90a3ebde",
      "metadata": {
        "_cell_guid": "b1076dfc-b9ad-4769-8c92-a6c4dae69d19",
        "_uuid": "8f2839f25d086af736a60e9eeb907d3b93b6e0e5",
        "execution": {
          "iopub.execute_input": "2023-05-27T17:04:17.046610Z",
          "iopub.status.busy": "2023-05-27T17:04:17.046262Z",
          "iopub.status.idle": "2023-05-27T17:04:18.548766Z",
          "shell.execute_reply": "2023-05-27T17:04:18.547633Z"
        },
        "papermill": {
          "duration": 1.51421,
          "end_time": "2023-05-27T17:04:18.551647",
          "exception": false,
          "start_time": "2023-05-27T17:04:17.037437",
          "status": "completed"
        },
        "tags": [],
        "id": "90a3ebde"
      },
      "outputs": [],
      "source": [
        "import numpy as np\n",
        "import pandas as pd\n",
        "from sklearn.model_selection import train_test_split\n",
        "from sklearn.linear_model import LinearRegression\n",
        "from sklearn.model_selection import cross_val_score\n",
        "from sklearn.metrics import mean_squared_error"
      ]
    },
    {
      "cell_type": "markdown",
      "id": "b5779838",
      "metadata": {
        "papermill": {
          "duration": 0.006075,
          "end_time": "2023-05-27T17:04:18.564388",
          "exception": false,
          "start_time": "2023-05-27T17:04:18.558313",
          "status": "completed"
        },
        "tags": [],
        "id": "b5779838"
      },
      "source": [
        "<img src='https://miro.medium.com/v2/resize:fit:1400/1*GZ85Pfb2-PRKaLYFjGHUvA.png' width='1000'>"
      ]
    },
    {
      "cell_type": "code",
      "execution_count": 3,
      "id": "871a93ba",
      "metadata": {
        "execution": {
          "iopub.execute_input": "2023-05-27T17:04:18.578994Z",
          "iopub.status.busy": "2023-05-27T17:04:18.578195Z",
          "iopub.status.idle": "2023-05-27T17:04:18.674433Z",
          "shell.execute_reply": "2023-05-27T17:04:18.673436Z"
        },
        "papermill": {
          "duration": 0.10622,
          "end_time": "2023-05-27T17:04:18.676919",
          "exception": false,
          "start_time": "2023-05-27T17:04:18.570699",
          "status": "completed"
        },
        "tags": [],
        "colab": {
          "base_uri": "https://localhost:8080/",
          "height": 540
        },
        "id": "871a93ba",
        "outputId": "e74d9a16-4b88-4ea2-cf7d-4bf85fb68ae7"
      },
      "outputs": [
        {
          "output_type": "execute_result",
          "data": {
            "text/plain": [
              "          Country  Year      Status  Life expectancy   Adult Mortality  \\\n",
              "0     Afghanistan  2015  Developing              65.0            263.0   \n",
              "1     Afghanistan  2014  Developing              59.9            271.0   \n",
              "2     Afghanistan  2013  Developing              59.9            268.0   \n",
              "3     Afghanistan  2012  Developing              59.5            272.0   \n",
              "4     Afghanistan  2011  Developing              59.2            275.0   \n",
              "...           ...   ...         ...               ...              ...   \n",
              "2933     Zimbabwe  2004  Developing              44.3            723.0   \n",
              "2934     Zimbabwe  2003  Developing              44.5            715.0   \n",
              "2935     Zimbabwe  2002  Developing              44.8             73.0   \n",
              "2936     Zimbabwe  2001  Developing              45.3            686.0   \n",
              "2937     Zimbabwe  2000  Developing              46.0            665.0   \n",
              "\n",
              "      infant deaths  Alcohol  percentage expenditure  Hepatitis B  Measles   \\\n",
              "0                62     0.01               71.279624         65.0      1154   \n",
              "1                64     0.01               73.523582         62.0       492   \n",
              "2                66     0.01               73.219243         64.0       430   \n",
              "3                69     0.01               78.184215         67.0      2787   \n",
              "4                71     0.01                7.097109         68.0      3013   \n",
              "...             ...      ...                     ...          ...       ...   \n",
              "2933             27     4.36                0.000000         68.0        31   \n",
              "2934             26     4.06                0.000000          7.0       998   \n",
              "2935             25     4.43                0.000000         73.0       304   \n",
              "2936             25     1.72                0.000000         76.0       529   \n",
              "2937             24     1.68                0.000000         79.0      1483   \n",
              "\n",
              "      ...  Polio  Total expenditure  Diphtheria    HIV/AIDS         GDP  \\\n",
              "0     ...    6.0               8.16         65.0        0.1  584.259210   \n",
              "1     ...   58.0               8.18         62.0        0.1  612.696514   \n",
              "2     ...   62.0               8.13         64.0        0.1  631.744976   \n",
              "3     ...   67.0               8.52         67.0        0.1  669.959000   \n",
              "4     ...   68.0               7.87         68.0        0.1   63.537231   \n",
              "...   ...    ...                ...          ...        ...         ...   \n",
              "2933  ...   67.0               7.13         65.0       33.6  454.366654   \n",
              "2934  ...    7.0               6.52         68.0       36.7  453.351155   \n",
              "2935  ...   73.0               6.53         71.0       39.8   57.348340   \n",
              "2936  ...   76.0               6.16         75.0       42.1  548.587312   \n",
              "2937  ...   78.0               7.10         78.0       43.5  547.358878   \n",
              "\n",
              "      Population   thinness  1-19 years   thinness 5-9 years  \\\n",
              "0     33736494.0                   17.2                 17.3   \n",
              "1       327582.0                   17.5                 17.5   \n",
              "2     31731688.0                   17.7                 17.7   \n",
              "3      3696958.0                   17.9                 18.0   \n",
              "4      2978599.0                   18.2                 18.2   \n",
              "...          ...                    ...                  ...   \n",
              "2933  12777511.0                    9.4                  9.4   \n",
              "2934  12633897.0                    9.8                  9.9   \n",
              "2935    125525.0                    1.2                  1.3   \n",
              "2936  12366165.0                    1.6                  1.7   \n",
              "2937  12222251.0                   11.0                 11.2   \n",
              "\n",
              "      Income composition of resources  Schooling  \n",
              "0                               0.479       10.1  \n",
              "1                               0.476       10.0  \n",
              "2                               0.470        9.9  \n",
              "3                               0.463        9.8  \n",
              "4                               0.454        9.5  \n",
              "...                               ...        ...  \n",
              "2933                            0.407        9.2  \n",
              "2934                            0.418        9.5  \n",
              "2935                            0.427       10.0  \n",
              "2936                            0.427        9.8  \n",
              "2937                            0.434        9.8  \n",
              "\n",
              "[2938 rows x 22 columns]"
            ],
            "text/html": [
              "\n",
              "  <div id=\"df-2f7232ec-be34-4099-a97a-7110a9d40238\">\n",
              "    <div class=\"colab-df-container\">\n",
              "      <div>\n",
              "<style scoped>\n",
              "    .dataframe tbody tr th:only-of-type {\n",
              "        vertical-align: middle;\n",
              "    }\n",
              "\n",
              "    .dataframe tbody tr th {\n",
              "        vertical-align: top;\n",
              "    }\n",
              "\n",
              "    .dataframe thead th {\n",
              "        text-align: right;\n",
              "    }\n",
              "</style>\n",
              "<table border=\"1\" class=\"dataframe\">\n",
              "  <thead>\n",
              "    <tr style=\"text-align: right;\">\n",
              "      <th></th>\n",
              "      <th>Country</th>\n",
              "      <th>Year</th>\n",
              "      <th>Status</th>\n",
              "      <th>Life expectancy</th>\n",
              "      <th>Adult Mortality</th>\n",
              "      <th>infant deaths</th>\n",
              "      <th>Alcohol</th>\n",
              "      <th>percentage expenditure</th>\n",
              "      <th>Hepatitis B</th>\n",
              "      <th>Measles</th>\n",
              "      <th>...</th>\n",
              "      <th>Polio</th>\n",
              "      <th>Total expenditure</th>\n",
              "      <th>Diphtheria</th>\n",
              "      <th>HIV/AIDS</th>\n",
              "      <th>GDP</th>\n",
              "      <th>Population</th>\n",
              "      <th>thinness  1-19 years</th>\n",
              "      <th>thinness 5-9 years</th>\n",
              "      <th>Income composition of resources</th>\n",
              "      <th>Schooling</th>\n",
              "    </tr>\n",
              "  </thead>\n",
              "  <tbody>\n",
              "    <tr>\n",
              "      <th>0</th>\n",
              "      <td>Afghanistan</td>\n",
              "      <td>2015</td>\n",
              "      <td>Developing</td>\n",
              "      <td>65.0</td>\n",
              "      <td>263.0</td>\n",
              "      <td>62</td>\n",
              "      <td>0.01</td>\n",
              "      <td>71.279624</td>\n",
              "      <td>65.0</td>\n",
              "      <td>1154</td>\n",
              "      <td>...</td>\n",
              "      <td>6.0</td>\n",
              "      <td>8.16</td>\n",
              "      <td>65.0</td>\n",
              "      <td>0.1</td>\n",
              "      <td>584.259210</td>\n",
              "      <td>33736494.0</td>\n",
              "      <td>17.2</td>\n",
              "      <td>17.3</td>\n",
              "      <td>0.479</td>\n",
              "      <td>10.1</td>\n",
              "    </tr>\n",
              "    <tr>\n",
              "      <th>1</th>\n",
              "      <td>Afghanistan</td>\n",
              "      <td>2014</td>\n",
              "      <td>Developing</td>\n",
              "      <td>59.9</td>\n",
              "      <td>271.0</td>\n",
              "      <td>64</td>\n",
              "      <td>0.01</td>\n",
              "      <td>73.523582</td>\n",
              "      <td>62.0</td>\n",
              "      <td>492</td>\n",
              "      <td>...</td>\n",
              "      <td>58.0</td>\n",
              "      <td>8.18</td>\n",
              "      <td>62.0</td>\n",
              "      <td>0.1</td>\n",
              "      <td>612.696514</td>\n",
              "      <td>327582.0</td>\n",
              "      <td>17.5</td>\n",
              "      <td>17.5</td>\n",
              "      <td>0.476</td>\n",
              "      <td>10.0</td>\n",
              "    </tr>\n",
              "    <tr>\n",
              "      <th>2</th>\n",
              "      <td>Afghanistan</td>\n",
              "      <td>2013</td>\n",
              "      <td>Developing</td>\n",
              "      <td>59.9</td>\n",
              "      <td>268.0</td>\n",
              "      <td>66</td>\n",
              "      <td>0.01</td>\n",
              "      <td>73.219243</td>\n",
              "      <td>64.0</td>\n",
              "      <td>430</td>\n",
              "      <td>...</td>\n",
              "      <td>62.0</td>\n",
              "      <td>8.13</td>\n",
              "      <td>64.0</td>\n",
              "      <td>0.1</td>\n",
              "      <td>631.744976</td>\n",
              "      <td>31731688.0</td>\n",
              "      <td>17.7</td>\n",
              "      <td>17.7</td>\n",
              "      <td>0.470</td>\n",
              "      <td>9.9</td>\n",
              "    </tr>\n",
              "    <tr>\n",
              "      <th>3</th>\n",
              "      <td>Afghanistan</td>\n",
              "      <td>2012</td>\n",
              "      <td>Developing</td>\n",
              "      <td>59.5</td>\n",
              "      <td>272.0</td>\n",
              "      <td>69</td>\n",
              "      <td>0.01</td>\n",
              "      <td>78.184215</td>\n",
              "      <td>67.0</td>\n",
              "      <td>2787</td>\n",
              "      <td>...</td>\n",
              "      <td>67.0</td>\n",
              "      <td>8.52</td>\n",
              "      <td>67.0</td>\n",
              "      <td>0.1</td>\n",
              "      <td>669.959000</td>\n",
              "      <td>3696958.0</td>\n",
              "      <td>17.9</td>\n",
              "      <td>18.0</td>\n",
              "      <td>0.463</td>\n",
              "      <td>9.8</td>\n",
              "    </tr>\n",
              "    <tr>\n",
              "      <th>4</th>\n",
              "      <td>Afghanistan</td>\n",
              "      <td>2011</td>\n",
              "      <td>Developing</td>\n",
              "      <td>59.2</td>\n",
              "      <td>275.0</td>\n",
              "      <td>71</td>\n",
              "      <td>0.01</td>\n",
              "      <td>7.097109</td>\n",
              "      <td>68.0</td>\n",
              "      <td>3013</td>\n",
              "      <td>...</td>\n",
              "      <td>68.0</td>\n",
              "      <td>7.87</td>\n",
              "      <td>68.0</td>\n",
              "      <td>0.1</td>\n",
              "      <td>63.537231</td>\n",
              "      <td>2978599.0</td>\n",
              "      <td>18.2</td>\n",
              "      <td>18.2</td>\n",
              "      <td>0.454</td>\n",
              "      <td>9.5</td>\n",
              "    </tr>\n",
              "    <tr>\n",
              "      <th>...</th>\n",
              "      <td>...</td>\n",
              "      <td>...</td>\n",
              "      <td>...</td>\n",
              "      <td>...</td>\n",
              "      <td>...</td>\n",
              "      <td>...</td>\n",
              "      <td>...</td>\n",
              "      <td>...</td>\n",
              "      <td>...</td>\n",
              "      <td>...</td>\n",
              "      <td>...</td>\n",
              "      <td>...</td>\n",
              "      <td>...</td>\n",
              "      <td>...</td>\n",
              "      <td>...</td>\n",
              "      <td>...</td>\n",
              "      <td>...</td>\n",
              "      <td>...</td>\n",
              "      <td>...</td>\n",
              "      <td>...</td>\n",
              "      <td>...</td>\n",
              "    </tr>\n",
              "    <tr>\n",
              "      <th>2933</th>\n",
              "      <td>Zimbabwe</td>\n",
              "      <td>2004</td>\n",
              "      <td>Developing</td>\n",
              "      <td>44.3</td>\n",
              "      <td>723.0</td>\n",
              "      <td>27</td>\n",
              "      <td>4.36</td>\n",
              "      <td>0.000000</td>\n",
              "      <td>68.0</td>\n",
              "      <td>31</td>\n",
              "      <td>...</td>\n",
              "      <td>67.0</td>\n",
              "      <td>7.13</td>\n",
              "      <td>65.0</td>\n",
              "      <td>33.6</td>\n",
              "      <td>454.366654</td>\n",
              "      <td>12777511.0</td>\n",
              "      <td>9.4</td>\n",
              "      <td>9.4</td>\n",
              "      <td>0.407</td>\n",
              "      <td>9.2</td>\n",
              "    </tr>\n",
              "    <tr>\n",
              "      <th>2934</th>\n",
              "      <td>Zimbabwe</td>\n",
              "      <td>2003</td>\n",
              "      <td>Developing</td>\n",
              "      <td>44.5</td>\n",
              "      <td>715.0</td>\n",
              "      <td>26</td>\n",
              "      <td>4.06</td>\n",
              "      <td>0.000000</td>\n",
              "      <td>7.0</td>\n",
              "      <td>998</td>\n",
              "      <td>...</td>\n",
              "      <td>7.0</td>\n",
              "      <td>6.52</td>\n",
              "      <td>68.0</td>\n",
              "      <td>36.7</td>\n",
              "      <td>453.351155</td>\n",
              "      <td>12633897.0</td>\n",
              "      <td>9.8</td>\n",
              "      <td>9.9</td>\n",
              "      <td>0.418</td>\n",
              "      <td>9.5</td>\n",
              "    </tr>\n",
              "    <tr>\n",
              "      <th>2935</th>\n",
              "      <td>Zimbabwe</td>\n",
              "      <td>2002</td>\n",
              "      <td>Developing</td>\n",
              "      <td>44.8</td>\n",
              "      <td>73.0</td>\n",
              "      <td>25</td>\n",
              "      <td>4.43</td>\n",
              "      <td>0.000000</td>\n",
              "      <td>73.0</td>\n",
              "      <td>304</td>\n",
              "      <td>...</td>\n",
              "      <td>73.0</td>\n",
              "      <td>6.53</td>\n",
              "      <td>71.0</td>\n",
              "      <td>39.8</td>\n",
              "      <td>57.348340</td>\n",
              "      <td>125525.0</td>\n",
              "      <td>1.2</td>\n",
              "      <td>1.3</td>\n",
              "      <td>0.427</td>\n",
              "      <td>10.0</td>\n",
              "    </tr>\n",
              "    <tr>\n",
              "      <th>2936</th>\n",
              "      <td>Zimbabwe</td>\n",
              "      <td>2001</td>\n",
              "      <td>Developing</td>\n",
              "      <td>45.3</td>\n",
              "      <td>686.0</td>\n",
              "      <td>25</td>\n",
              "      <td>1.72</td>\n",
              "      <td>0.000000</td>\n",
              "      <td>76.0</td>\n",
              "      <td>529</td>\n",
              "      <td>...</td>\n",
              "      <td>76.0</td>\n",
              "      <td>6.16</td>\n",
              "      <td>75.0</td>\n",
              "      <td>42.1</td>\n",
              "      <td>548.587312</td>\n",
              "      <td>12366165.0</td>\n",
              "      <td>1.6</td>\n",
              "      <td>1.7</td>\n",
              "      <td>0.427</td>\n",
              "      <td>9.8</td>\n",
              "    </tr>\n",
              "    <tr>\n",
              "      <th>2937</th>\n",
              "      <td>Zimbabwe</td>\n",
              "      <td>2000</td>\n",
              "      <td>Developing</td>\n",
              "      <td>46.0</td>\n",
              "      <td>665.0</td>\n",
              "      <td>24</td>\n",
              "      <td>1.68</td>\n",
              "      <td>0.000000</td>\n",
              "      <td>79.0</td>\n",
              "      <td>1483</td>\n",
              "      <td>...</td>\n",
              "      <td>78.0</td>\n",
              "      <td>7.10</td>\n",
              "      <td>78.0</td>\n",
              "      <td>43.5</td>\n",
              "      <td>547.358878</td>\n",
              "      <td>12222251.0</td>\n",
              "      <td>11.0</td>\n",
              "      <td>11.2</td>\n",
              "      <td>0.434</td>\n",
              "      <td>9.8</td>\n",
              "    </tr>\n",
              "  </tbody>\n",
              "</table>\n",
              "<p>2938 rows × 22 columns</p>\n",
              "</div>\n",
              "      <button class=\"colab-df-convert\" onclick=\"convertToInteractive('df-2f7232ec-be34-4099-a97a-7110a9d40238')\"\n",
              "              title=\"Convert this dataframe to an interactive table.\"\n",
              "              style=\"display:none;\">\n",
              "        \n",
              "  <svg xmlns=\"http://www.w3.org/2000/svg\" height=\"24px\"viewBox=\"0 0 24 24\"\n",
              "       width=\"24px\">\n",
              "    <path d=\"M0 0h24v24H0V0z\" fill=\"none\"/>\n",
              "    <path d=\"M18.56 5.44l.94 2.06.94-2.06 2.06-.94-2.06-.94-.94-2.06-.94 2.06-2.06.94zm-11 1L8.5 8.5l.94-2.06 2.06-.94-2.06-.94L8.5 2.5l-.94 2.06-2.06.94zm10 10l.94 2.06.94-2.06 2.06-.94-2.06-.94-.94-2.06-.94 2.06-2.06.94z\"/><path d=\"M17.41 7.96l-1.37-1.37c-.4-.4-.92-.59-1.43-.59-.52 0-1.04.2-1.43.59L10.3 9.45l-7.72 7.72c-.78.78-.78 2.05 0 2.83L4 21.41c.39.39.9.59 1.41.59.51 0 1.02-.2 1.41-.59l7.78-7.78 2.81-2.81c.8-.78.8-2.07 0-2.86zM5.41 20L4 18.59l7.72-7.72 1.47 1.35L5.41 20z\"/>\n",
              "  </svg>\n",
              "      </button>\n",
              "      \n",
              "  <style>\n",
              "    .colab-df-container {\n",
              "      display:flex;\n",
              "      flex-wrap:wrap;\n",
              "      gap: 12px;\n",
              "    }\n",
              "\n",
              "    .colab-df-convert {\n",
              "      background-color: #E8F0FE;\n",
              "      border: none;\n",
              "      border-radius: 50%;\n",
              "      cursor: pointer;\n",
              "      display: none;\n",
              "      fill: #1967D2;\n",
              "      height: 32px;\n",
              "      padding: 0 0 0 0;\n",
              "      width: 32px;\n",
              "    }\n",
              "\n",
              "    .colab-df-convert:hover {\n",
              "      background-color: #E2EBFA;\n",
              "      box-shadow: 0px 1px 2px rgba(60, 64, 67, 0.3), 0px 1px 3px 1px rgba(60, 64, 67, 0.15);\n",
              "      fill: #174EA6;\n",
              "    }\n",
              "\n",
              "    [theme=dark] .colab-df-convert {\n",
              "      background-color: #3B4455;\n",
              "      fill: #D2E3FC;\n",
              "    }\n",
              "\n",
              "    [theme=dark] .colab-df-convert:hover {\n",
              "      background-color: #434B5C;\n",
              "      box-shadow: 0px 1px 3px 1px rgba(0, 0, 0, 0.15);\n",
              "      filter: drop-shadow(0px 1px 2px rgba(0, 0, 0, 0.3));\n",
              "      fill: #FFFFFF;\n",
              "    }\n",
              "  </style>\n",
              "\n",
              "      <script>\n",
              "        const buttonEl =\n",
              "          document.querySelector('#df-2f7232ec-be34-4099-a97a-7110a9d40238 button.colab-df-convert');\n",
              "        buttonEl.style.display =\n",
              "          google.colab.kernel.accessAllowed ? 'block' : 'none';\n",
              "\n",
              "        async function convertToInteractive(key) {\n",
              "          const element = document.querySelector('#df-2f7232ec-be34-4099-a97a-7110a9d40238');\n",
              "          const dataTable =\n",
              "            await google.colab.kernel.invokeFunction('convertToInteractive',\n",
              "                                                     [key], {});\n",
              "          if (!dataTable) return;\n",
              "\n",
              "          const docLinkHtml = 'Like what you see? Visit the ' +\n",
              "            '<a target=\"_blank\" href=https://colab.research.google.com/notebooks/data_table.ipynb>data table notebook</a>'\n",
              "            + ' to learn more about interactive tables.';\n",
              "          element.innerHTML = '';\n",
              "          dataTable['output_type'] = 'display_data';\n",
              "          await google.colab.output.renderOutput(dataTable, element);\n",
              "          const docLink = document.createElement('div');\n",
              "          docLink.innerHTML = docLinkHtml;\n",
              "          element.appendChild(docLink);\n",
              "        }\n",
              "      </script>\n",
              "    </div>\n",
              "  </div>\n",
              "  "
            ]
          },
          "metadata": {},
          "execution_count": 3
        }
      ],
      "source": [
        "dados = pd.read_csv('/content/Life Expectancy Data.csv')\n",
        "dados\n"
      ]
    },
    {
      "cell_type": "markdown",
      "id": "3ca02d7b",
      "metadata": {
        "papermill": {
          "duration": 0.00659,
          "end_time": "2023-05-27T17:04:18.691879",
          "exception": false,
          "start_time": "2023-05-27T17:04:18.685289",
          "status": "completed"
        },
        "tags": [],
        "id": "3ca02d7b"
      },
      "source": [
        "# Entendendo os dados:\n",
        "\n",
        "Hepatitis B, Measles (Sarampo), Polio (poliomelite), Diphtheria (tétano): refere a cobertura de vacinação entre crianças de 1 ano\n",
        "\n",
        "HIV/AIDS: Incidentes de HIV/1.000 hab. de 15 a 49 anos\n",
        "\n",
        "thiness: magreza (desnutrição?)\n",
        "\n",
        "alcohol: Consumo de álcool que é registrado em litros de álcool puro per capita, pessoas 15+ de idade\n",
        "\n",
        "Schooling: anos de escolaridade média\n",
        "\n",
        "BMI: IMC\n",
        "\n",
        "GDP: PIB em milhões de $"
      ]
    },
    {
      "cell_type": "markdown",
      "id": "ba2be52a",
      "metadata": {
        "papermill": {
          "duration": 0.006499,
          "end_time": "2023-05-27T17:04:18.705228",
          "exception": false,
          "start_time": "2023-05-27T17:04:18.698729",
          "status": "completed"
        },
        "tags": [],
        "id": "ba2be52a"
      },
      "source": [
        "## Variável Resposta (Target) Y = *Life Expectancy*"
      ]
    },
    {
      "cell_type": "code",
      "execution_count": null,
      "id": "3540ebaa",
      "metadata": {
        "execution": {
          "iopub.execute_input": "2023-05-27T17:04:18.721787Z",
          "iopub.status.busy": "2023-05-27T17:04:18.720837Z",
          "iopub.status.idle": "2023-05-27T17:04:18.727826Z",
          "shell.execute_reply": "2023-05-27T17:04:18.726794Z"
        },
        "papermill": {
          "duration": 0.017271,
          "end_time": "2023-05-27T17:04:18.729920",
          "exception": false,
          "start_time": "2023-05-27T17:04:18.712649",
          "status": "completed"
        },
        "tags": [],
        "id": "3540ebaa",
        "outputId": "89ea582d-9658-4cb4-8bb8-a0521a3a76ac"
      },
      "outputs": [
        {
          "data": {
            "text/plain": [
              "Index(['Country', 'Year', 'Status', 'Life expectancy ', 'Adult Mortality',\n",
              "       'infant deaths', 'Alcohol', 'percentage expenditure', 'Hepatitis B',\n",
              "       'Measles ', ' BMI ', 'under-five deaths ', 'Polio', 'Total expenditure',\n",
              "       'Diphtheria ', ' HIV/AIDS', 'GDP', 'Population',\n",
              "       ' thinness  1-19 years', ' thinness 5-9 years',\n",
              "       'Income composition of resources', 'Schooling'],\n",
              "      dtype='object')"
            ]
          },
          "execution_count": 3,
          "metadata": {},
          "output_type": "execute_result"
        }
      ],
      "source": [
        "dados.columns"
      ]
    },
    {
      "cell_type": "code",
      "execution_count": null,
      "id": "29157562",
      "metadata": {
        "execution": {
          "iopub.execute_input": "2023-05-27T17:04:18.746554Z",
          "iopub.status.busy": "2023-05-27T17:04:18.745924Z",
          "iopub.status.idle": "2023-05-27T17:04:18.753978Z",
          "shell.execute_reply": "2023-05-27T17:04:18.753068Z"
        },
        "papermill": {
          "duration": 0.018747,
          "end_time": "2023-05-27T17:04:18.755992",
          "exception": false,
          "start_time": "2023-05-27T17:04:18.737245",
          "status": "completed"
        },
        "tags": [],
        "id": "29157562",
        "outputId": "1342276f-b167-4841-e8e3-6d0cfb4c6d19"
      },
      "outputs": [
        {
          "data": {
            "text/plain": [
              "Index(['Country', 'Year', 'Status', 'Life expectancy', 'Adult Mortality',\n",
              "       'infant deaths', 'Alcohol', 'percentage expenditure', 'Hepatitis B',\n",
              "       'Measles', 'BMI', 'under-five deaths', 'Polio', 'Total expenditure',\n",
              "       'Diphtheria', 'HIV/AIDS', 'GDP', 'Population', 'thinness  1-19 years',\n",
              "       'thinness 5-9 years', 'Income composition of resources', 'Schooling'],\n",
              "      dtype='object')"
            ]
          },
          "execution_count": 4,
          "metadata": {},
          "output_type": "execute_result"
        }
      ],
      "source": [
        "#remove espaços no começo e fim do nome\n",
        "dados = dados.rename(columns=lambda x: x.strip())\n",
        "dados.columns"
      ]
    },
    {
      "cell_type": "code",
      "execution_count": null,
      "id": "7de3201b",
      "metadata": {
        "execution": {
          "iopub.execute_input": "2023-05-27T17:04:18.772721Z",
          "iopub.status.busy": "2023-05-27T17:04:18.772021Z",
          "iopub.status.idle": "2023-05-27T17:04:18.778845Z",
          "shell.execute_reply": "2023-05-27T17:04:18.778023Z"
        },
        "papermill": {
          "duration": 0.017457,
          "end_time": "2023-05-27T17:04:18.780856",
          "exception": false,
          "start_time": "2023-05-27T17:04:18.763399",
          "status": "completed"
        },
        "tags": [],
        "id": "7de3201b"
      },
      "outputs": [],
      "source": [
        "# para esse projeto não iremos nos preocupar quando o y for NaN\n",
        "dados = dados.drop(index=dados[dados['Life expectancy'].isna()].index)"
      ]
    },
    {
      "cell_type": "markdown",
      "id": "6cceddc0",
      "metadata": {
        "papermill": {
          "duration": 0.006968,
          "end_time": "2023-05-27T17:04:18.795368",
          "exception": false,
          "start_time": "2023-05-27T17:04:18.788400",
          "status": "completed"
        },
        "tags": [],
        "id": "6cceddc0"
      },
      "source": [
        "## Separação Treino e Teste"
      ]
    },
    {
      "cell_type": "code",
      "execution_count": null,
      "id": "ab84269d",
      "metadata": {
        "execution": {
          "iopub.execute_input": "2023-05-27T17:04:18.811744Z",
          "iopub.status.busy": "2023-05-27T17:04:18.811371Z",
          "iopub.status.idle": "2023-05-27T17:04:18.818298Z",
          "shell.execute_reply": "2023-05-27T17:04:18.817409Z"
        },
        "papermill": {
          "duration": 0.017539,
          "end_time": "2023-05-27T17:04:18.820261",
          "exception": false,
          "start_time": "2023-05-27T17:04:18.802722",
          "status": "completed"
        },
        "tags": [],
        "id": "ab84269d"
      },
      "outputs": [],
      "source": [
        "# convenção ser 20% teste\n",
        "df_train, df_test = train_test_split(dados, test_size=0.20, random_state=42)"
      ]
    },
    {
      "cell_type": "markdown",
      "id": "06e15924",
      "metadata": {
        "papermill": {
          "duration": 0.007309,
          "end_time": "2023-05-27T17:04:18.834728",
          "exception": false,
          "start_time": "2023-05-27T17:04:18.827419",
          "status": "completed"
        },
        "tags": [],
        "id": "06e15924"
      },
      "source": [
        "## Conjunto de teste"
      ]
    },
    {
      "cell_type": "code",
      "execution_count": null,
      "id": "0896f56a",
      "metadata": {
        "execution": {
          "iopub.execute_input": "2023-05-27T17:04:18.850764Z",
          "iopub.status.busy": "2023-05-27T17:04:18.850406Z",
          "iopub.status.idle": "2023-05-27T17:04:18.857396Z",
          "shell.execute_reply": "2023-05-27T17:04:18.856495Z"
        },
        "papermill": {
          "duration": 0.017243,
          "end_time": "2023-05-27T17:04:18.859399",
          "exception": false,
          "start_time": "2023-05-27T17:04:18.842156",
          "status": "completed"
        },
        "tags": [],
        "id": "0896f56a"
      },
      "outputs": [],
      "source": [
        "X_test = df_test.loc[:,dados.columns != 'Life expectancy']\n",
        "y_test = df_test['Life expectancy']"
      ]
    },
    {
      "cell_type": "markdown",
      "id": "4e0d106f",
      "metadata": {
        "papermill": {
          "duration": 0.006966,
          "end_time": "2023-05-27T17:04:18.873442",
          "exception": false,
          "start_time": "2023-05-27T17:04:18.866476",
          "status": "completed"
        },
        "tags": [],
        "id": "4e0d106f"
      },
      "source": [
        "## Importante: \n",
        "\n",
        "### Daqui pra frente não se usa o X_test e y_test para analisar os dados nem tomar decisões\n",
        "\n",
        "### y_test idealmente não se usa até o teste final de resultado do modelo (para testar mais de uma vez usamos Cross-Validation com a base de treino)"
      ]
    },
    {
      "cell_type": "markdown",
      "id": "286650d3",
      "metadata": {
        "papermill": {
          "duration": 0.007395,
          "end_time": "2023-05-27T17:04:18.887829",
          "exception": false,
          "start_time": "2023-05-27T17:04:18.880434",
          "status": "completed"
        },
        "tags": [],
        "id": "286650d3"
      },
      "source": [
        "# Tratamento de dados"
      ]
    },
    {
      "cell_type": "code",
      "execution_count": null,
      "id": "85378958",
      "metadata": {
        "execution": {
          "iopub.execute_input": "2023-05-27T17:04:18.904186Z",
          "iopub.status.busy": "2023-05-27T17:04:18.903143Z",
          "iopub.status.idle": "2023-05-27T17:04:18.910446Z",
          "shell.execute_reply": "2023-05-27T17:04:18.909376Z"
        },
        "papermill": {
          "duration": 0.017578,
          "end_time": "2023-05-27T17:04:18.912495",
          "exception": false,
          "start_time": "2023-05-27T17:04:18.894917",
          "status": "completed"
        },
        "tags": [],
        "id": "85378958"
      },
      "outputs": [],
      "source": [
        "df_train = df_train.dropna()"
      ]
    },
    {
      "cell_type": "code",
      "execution_count": null,
      "id": "6c291717",
      "metadata": {
        "execution": {
          "iopub.execute_input": "2023-05-27T17:04:18.929169Z",
          "iopub.status.busy": "2023-05-27T17:04:18.928531Z",
          "iopub.status.idle": "2023-05-27T17:04:18.933812Z",
          "shell.execute_reply": "2023-05-27T17:04:18.933104Z"
        },
        "papermill": {
          "duration": 0.016,
          "end_time": "2023-05-27T17:04:18.935737",
          "exception": false,
          "start_time": "2023-05-27T17:04:18.919737",
          "status": "completed"
        },
        "tags": [],
        "id": "6c291717"
      },
      "outputs": [],
      "source": [
        "X_train = df_train.loc[:,dados.columns != 'Life expectancy']\n",
        "y_train = df_train['Life expectancy']"
      ]
    },
    {
      "cell_type": "code",
      "execution_count": null,
      "id": "b1ee58d1",
      "metadata": {
        "execution": {
          "iopub.execute_input": "2023-05-27T17:04:18.951910Z",
          "iopub.status.busy": "2023-05-27T17:04:18.951501Z",
          "iopub.status.idle": "2023-05-27T17:04:18.987061Z",
          "shell.execute_reply": "2023-05-27T17:04:18.986064Z"
        },
        "papermill": {
          "duration": 0.04629,
          "end_time": "2023-05-27T17:04:18.989215",
          "exception": false,
          "start_time": "2023-05-27T17:04:18.942925",
          "status": "completed"
        },
        "tags": [],
        "id": "b1ee58d1",
        "outputId": "67301807-c3a0-4e2c-b5b8-08d985cc6cdd"
      },
      "outputs": [
        {
          "data": {
            "text/html": [
              "<div>\n",
              "<style scoped>\n",
              "    .dataframe tbody tr th:only-of-type {\n",
              "        vertical-align: middle;\n",
              "    }\n",
              "\n",
              "    .dataframe tbody tr th {\n",
              "        vertical-align: top;\n",
              "    }\n",
              "\n",
              "    .dataframe thead th {\n",
              "        text-align: right;\n",
              "    }\n",
              "</style>\n",
              "<table border=\"1\" class=\"dataframe\">\n",
              "  <thead>\n",
              "    <tr style=\"text-align: right;\">\n",
              "      <th></th>\n",
              "      <th>Country</th>\n",
              "      <th>Year</th>\n",
              "      <th>Status</th>\n",
              "      <th>Adult Mortality</th>\n",
              "      <th>infant deaths</th>\n",
              "      <th>Alcohol</th>\n",
              "      <th>percentage expenditure</th>\n",
              "      <th>Hepatitis B</th>\n",
              "      <th>Measles</th>\n",
              "      <th>BMI</th>\n",
              "      <th>...</th>\n",
              "      <th>Polio</th>\n",
              "      <th>Total expenditure</th>\n",
              "      <th>Diphtheria</th>\n",
              "      <th>HIV/AIDS</th>\n",
              "      <th>GDP</th>\n",
              "      <th>Population</th>\n",
              "      <th>thinness  1-19 years</th>\n",
              "      <th>thinness 5-9 years</th>\n",
              "      <th>Income composition of resources</th>\n",
              "      <th>Schooling</th>\n",
              "    </tr>\n",
              "  </thead>\n",
              "  <tbody>\n",
              "    <tr>\n",
              "      <th>2268</th>\n",
              "      <td>Serbia</td>\n",
              "      <td>2012</td>\n",
              "      <td>Developing</td>\n",
              "      <td>126.0</td>\n",
              "      <td>1</td>\n",
              "      <td>9.38</td>\n",
              "      <td>742.510971</td>\n",
              "      <td>97.0</td>\n",
              "      <td>0</td>\n",
              "      <td>58.3</td>\n",
              "      <td>...</td>\n",
              "      <td>93.0</td>\n",
              "      <td>9.89</td>\n",
              "      <td>91.0</td>\n",
              "      <td>0.1</td>\n",
              "      <td>5659.382400</td>\n",
              "      <td>719977.0</td>\n",
              "      <td>2.1</td>\n",
              "      <td>2.1</td>\n",
              "      <td>0.767</td>\n",
              "      <td>14.0</td>\n",
              "    </tr>\n",
              "    <tr>\n",
              "      <th>1680</th>\n",
              "      <td>Mauritius</td>\n",
              "      <td>2002</td>\n",
              "      <td>Developing</td>\n",
              "      <td>179.0</td>\n",
              "      <td>0</td>\n",
              "      <td>4.14</td>\n",
              "      <td>369.631710</td>\n",
              "      <td>88.0</td>\n",
              "      <td>0</td>\n",
              "      <td>26.4</td>\n",
              "      <td>...</td>\n",
              "      <td>88.0</td>\n",
              "      <td>4.24</td>\n",
              "      <td>88.0</td>\n",
              "      <td>0.1</td>\n",
              "      <td>3957.512960</td>\n",
              "      <td>124621.0</td>\n",
              "      <td>7.9</td>\n",
              "      <td>7.9</td>\n",
              "      <td>0.683</td>\n",
              "      <td>12.5</td>\n",
              "    </tr>\n",
              "    <tr>\n",
              "      <th>2680</th>\n",
              "      <td>Tunisia</td>\n",
              "      <td>2000</td>\n",
              "      <td>Developing</td>\n",
              "      <td>112.0</td>\n",
              "      <td>4</td>\n",
              "      <td>1.21</td>\n",
              "      <td>264.784220</td>\n",
              "      <td>94.0</td>\n",
              "      <td>47</td>\n",
              "      <td>48.1</td>\n",
              "      <td>...</td>\n",
              "      <td>97.0</td>\n",
              "      <td>5.40</td>\n",
              "      <td>97.0</td>\n",
              "      <td>0.1</td>\n",
              "      <td>2213.914880</td>\n",
              "      <td>9699197.0</td>\n",
              "      <td>6.6</td>\n",
              "      <td>6.5</td>\n",
              "      <td>0.646</td>\n",
              "      <td>12.8</td>\n",
              "    </tr>\n",
              "    <tr>\n",
              "      <th>2734</th>\n",
              "      <td>Ukraine</td>\n",
              "      <td>2011</td>\n",
              "      <td>Developing</td>\n",
              "      <td>24.0</td>\n",
              "      <td>5</td>\n",
              "      <td>8.48</td>\n",
              "      <td>415.162771</td>\n",
              "      <td>21.0</td>\n",
              "      <td>1333</td>\n",
              "      <td>59.0</td>\n",
              "      <td>...</td>\n",
              "      <td>54.0</td>\n",
              "      <td>6.98</td>\n",
              "      <td>5.0</td>\n",
              "      <td>0.2</td>\n",
              "      <td>3569.757270</td>\n",
              "      <td>45761.0</td>\n",
              "      <td>2.4</td>\n",
              "      <td>2.5</td>\n",
              "      <td>0.734</td>\n",
              "      <td>14.9</td>\n",
              "    </tr>\n",
              "    <tr>\n",
              "      <th>2555</th>\n",
              "      <td>Tajikistan</td>\n",
              "      <td>2013</td>\n",
              "      <td>Developing</td>\n",
              "      <td>163.0</td>\n",
              "      <td>10</td>\n",
              "      <td>0.01</td>\n",
              "      <td>1.041916</td>\n",
              "      <td>96.0</td>\n",
              "      <td>1</td>\n",
              "      <td>39.0</td>\n",
              "      <td>...</td>\n",
              "      <td>97.0</td>\n",
              "      <td>6.75</td>\n",
              "      <td>96.0</td>\n",
              "      <td>0.2</td>\n",
              "      <td>14.214412</td>\n",
              "      <td>817789.0</td>\n",
              "      <td>3.6</td>\n",
              "      <td>3.7</td>\n",
              "      <td>0.617</td>\n",
              "      <td>11.2</td>\n",
              "    </tr>\n",
              "    <tr>\n",
              "      <th>...</th>\n",
              "      <td>...</td>\n",
              "      <td>...</td>\n",
              "      <td>...</td>\n",
              "      <td>...</td>\n",
              "      <td>...</td>\n",
              "      <td>...</td>\n",
              "      <td>...</td>\n",
              "      <td>...</td>\n",
              "      <td>...</td>\n",
              "      <td>...</td>\n",
              "      <td>...</td>\n",
              "      <td>...</td>\n",
              "      <td>...</td>\n",
              "      <td>...</td>\n",
              "      <td>...</td>\n",
              "      <td>...</td>\n",
              "      <td>...</td>\n",
              "      <td>...</td>\n",
              "      <td>...</td>\n",
              "      <td>...</td>\n",
              "      <td>...</td>\n",
              "    </tr>\n",
              "    <tr>\n",
              "      <th>1240</th>\n",
              "      <td>Iraq</td>\n",
              "      <td>2009</td>\n",
              "      <td>Developing</td>\n",
              "      <td>148.0</td>\n",
              "      <td>32</td>\n",
              "      <td>0.20</td>\n",
              "      <td>185.636698</td>\n",
              "      <td>75.0</td>\n",
              "      <td>30328</td>\n",
              "      <td>55.2</td>\n",
              "      <td>...</td>\n",
              "      <td>78.0</td>\n",
              "      <td>4.65</td>\n",
              "      <td>78.0</td>\n",
              "      <td>0.1</td>\n",
              "      <td>3735.144836</td>\n",
              "      <td>29894652.0</td>\n",
              "      <td>5.4</td>\n",
              "      <td>5.1</td>\n",
              "      <td>0.643</td>\n",
              "      <td>10.3</td>\n",
              "    </tr>\n",
              "    <tr>\n",
              "      <th>466</th>\n",
              "      <td>Cambodia</td>\n",
              "      <td>2013</td>\n",
              "      <td>Developing</td>\n",
              "      <td>183.0</td>\n",
              "      <td>11</td>\n",
              "      <td>0.01</td>\n",
              "      <td>8.758215</td>\n",
              "      <td>83.0</td>\n",
              "      <td>0</td>\n",
              "      <td>18.2</td>\n",
              "      <td>...</td>\n",
              "      <td>66.0</td>\n",
              "      <td>5.93</td>\n",
              "      <td>83.0</td>\n",
              "      <td>0.2</td>\n",
              "      <td>128.419568</td>\n",
              "      <td>1522692.0</td>\n",
              "      <td>11.0</td>\n",
              "      <td>11.1</td>\n",
              "      <td>0.546</td>\n",
              "      <td>10.8</td>\n",
              "    </tr>\n",
              "    <tr>\n",
              "      <th>1640</th>\n",
              "      <td>Malta</td>\n",
              "      <td>2009</td>\n",
              "      <td>Developed</td>\n",
              "      <td>63.0</td>\n",
              "      <td>0</td>\n",
              "      <td>7.38</td>\n",
              "      <td>335.518057</td>\n",
              "      <td>86.0</td>\n",
              "      <td>1</td>\n",
              "      <td>67.1</td>\n",
              "      <td>...</td>\n",
              "      <td>73.0</td>\n",
              "      <td>8.33</td>\n",
              "      <td>73.0</td>\n",
              "      <td>0.1</td>\n",
              "      <td>2675.582590</td>\n",
              "      <td>412477.0</td>\n",
              "      <td>0.8</td>\n",
              "      <td>0.7</td>\n",
              "      <td>0.815</td>\n",
              "      <td>14.4</td>\n",
              "    </tr>\n",
              "    <tr>\n",
              "      <th>1296</th>\n",
              "      <td>Italy</td>\n",
              "      <td>2001</td>\n",
              "      <td>Developed</td>\n",
              "      <td>75.0</td>\n",
              "      <td>2</td>\n",
              "      <td>9.69</td>\n",
              "      <td>3.122230</td>\n",
              "      <td>95.0</td>\n",
              "      <td>0</td>\n",
              "      <td>55.7</td>\n",
              "      <td>...</td>\n",
              "      <td>96.0</td>\n",
              "      <td>8.11</td>\n",
              "      <td>93.0</td>\n",
              "      <td>0.1</td>\n",
              "      <td>24.819000</td>\n",
              "      <td>569741.0</td>\n",
              "      <td>0.5</td>\n",
              "      <td>0.5</td>\n",
              "      <td>0.828</td>\n",
              "      <td>14.9</td>\n",
              "    </tr>\n",
              "    <tr>\n",
              "      <th>862</th>\n",
              "      <td>Eritrea</td>\n",
              "      <td>2003</td>\n",
              "      <td>Developing</td>\n",
              "      <td>343.0</td>\n",
              "      <td>7</td>\n",
              "      <td>0.56</td>\n",
              "      <td>6.913998</td>\n",
              "      <td>91.0</td>\n",
              "      <td>376</td>\n",
              "      <td>13.3</td>\n",
              "      <td>...</td>\n",
              "      <td>95.0</td>\n",
              "      <td>3.50</td>\n",
              "      <td>93.0</td>\n",
              "      <td>1.9</td>\n",
              "      <td>232.794546</td>\n",
              "      <td>3738265.0</td>\n",
              "      <td>9.7</td>\n",
              "      <td>9.7</td>\n",
              "      <td>0.000</td>\n",
              "      <td>4.7</td>\n",
              "    </tr>\n",
              "  </tbody>\n",
              "</table>\n",
              "<p>1325 rows × 21 columns</p>\n",
              "</div>"
            ],
            "text/plain": [
              "         Country  Year      Status  Adult Mortality  infant deaths  Alcohol  \\\n",
              "2268      Serbia  2012  Developing            126.0              1     9.38   \n",
              "1680   Mauritius  2002  Developing            179.0              0     4.14   \n",
              "2680     Tunisia  2000  Developing            112.0              4     1.21   \n",
              "2734     Ukraine  2011  Developing             24.0              5     8.48   \n",
              "2555  Tajikistan  2013  Developing            163.0             10     0.01   \n",
              "...          ...   ...         ...              ...            ...      ...   \n",
              "1240        Iraq  2009  Developing            148.0             32     0.20   \n",
              "466     Cambodia  2013  Developing            183.0             11     0.01   \n",
              "1640       Malta  2009   Developed             63.0              0     7.38   \n",
              "1296       Italy  2001   Developed             75.0              2     9.69   \n",
              "862      Eritrea  2003  Developing            343.0              7     0.56   \n",
              "\n",
              "      percentage expenditure  Hepatitis B  Measles   BMI  ...  Polio  \\\n",
              "2268              742.510971         97.0        0  58.3  ...   93.0   \n",
              "1680              369.631710         88.0        0  26.4  ...   88.0   \n",
              "2680              264.784220         94.0       47  48.1  ...   97.0   \n",
              "2734              415.162771         21.0     1333  59.0  ...   54.0   \n",
              "2555                1.041916         96.0        1  39.0  ...   97.0   \n",
              "...                      ...          ...      ...   ...  ...    ...   \n",
              "1240              185.636698         75.0    30328  55.2  ...   78.0   \n",
              "466                 8.758215         83.0        0  18.2  ...   66.0   \n",
              "1640              335.518057         86.0        1  67.1  ...   73.0   \n",
              "1296                3.122230         95.0        0  55.7  ...   96.0   \n",
              "862                 6.913998         91.0      376  13.3  ...   95.0   \n",
              "\n",
              "      Total expenditure  Diphtheria  HIV/AIDS          GDP  Population  \\\n",
              "2268               9.89        91.0       0.1  5659.382400    719977.0   \n",
              "1680               4.24        88.0       0.1  3957.512960    124621.0   \n",
              "2680               5.40        97.0       0.1  2213.914880   9699197.0   \n",
              "2734               6.98         5.0       0.2  3569.757270     45761.0   \n",
              "2555               6.75        96.0       0.2    14.214412    817789.0   \n",
              "...                 ...         ...       ...          ...         ...   \n",
              "1240               4.65        78.0       0.1  3735.144836  29894652.0   \n",
              "466                5.93        83.0       0.2   128.419568   1522692.0   \n",
              "1640               8.33        73.0       0.1  2675.582590    412477.0   \n",
              "1296               8.11        93.0       0.1    24.819000    569741.0   \n",
              "862                3.50        93.0       1.9   232.794546   3738265.0   \n",
              "\n",
              "      thinness  1-19 years  thinness 5-9 years  \\\n",
              "2268                   2.1                 2.1   \n",
              "1680                   7.9                 7.9   \n",
              "2680                   6.6                 6.5   \n",
              "2734                   2.4                 2.5   \n",
              "2555                   3.6                 3.7   \n",
              "...                    ...                 ...   \n",
              "1240                   5.4                 5.1   \n",
              "466                   11.0                11.1   \n",
              "1640                   0.8                 0.7   \n",
              "1296                   0.5                 0.5   \n",
              "862                    9.7                 9.7   \n",
              "\n",
              "      Income composition of resources  Schooling  \n",
              "2268                            0.767       14.0  \n",
              "1680                            0.683       12.5  \n",
              "2680                            0.646       12.8  \n",
              "2734                            0.734       14.9  \n",
              "2555                            0.617       11.2  \n",
              "...                               ...        ...  \n",
              "1240                            0.643       10.3  \n",
              "466                             0.546       10.8  \n",
              "1640                            0.815       14.4  \n",
              "1296                            0.828       14.9  \n",
              "862                             0.000        4.7  \n",
              "\n",
              "[1325 rows x 21 columns]"
            ]
          },
          "execution_count": 10,
          "metadata": {},
          "output_type": "execute_result"
        }
      ],
      "source": [
        "X_train"
      ]
    },
    {
      "cell_type": "markdown",
      "id": "ee163d36",
      "metadata": {
        "papermill": {
          "duration": 0.007403,
          "end_time": "2023-05-27T17:04:19.004298",
          "exception": false,
          "start_time": "2023-05-27T17:04:18.996895",
          "status": "completed"
        },
        "tags": [],
        "id": "ee163d36"
      },
      "source": [
        "# Escolha de features"
      ]
    },
    {
      "cell_type": "markdown",
      "id": "265068a3",
      "metadata": {
        "papermill": {
          "duration": 0.007635,
          "end_time": "2023-05-27T17:04:19.019464",
          "exception": false,
          "start_time": "2023-05-27T17:04:19.011829",
          "status": "completed"
        },
        "tags": [],
        "id": "265068a3"
      },
      "source": [
        "### escolhido duas colunas quaisquer "
      ]
    },
    {
      "cell_type": "code",
      "execution_count": null,
      "id": "a11a8e7c",
      "metadata": {
        "execution": {
          "iopub.execute_input": "2023-05-27T17:04:19.036330Z",
          "iopub.status.busy": "2023-05-27T17:04:19.035595Z",
          "iopub.status.idle": "2023-05-27T17:04:19.044467Z",
          "shell.execute_reply": "2023-05-27T17:04:19.043438Z"
        },
        "papermill": {
          "duration": 0.019856,
          "end_time": "2023-05-27T17:04:19.046774",
          "exception": false,
          "start_time": "2023-05-27T17:04:19.026918",
          "status": "completed"
        },
        "tags": [],
        "id": "a11a8e7c"
      },
      "outputs": [],
      "source": [
        "colunas = ['Year','Schooling']\n",
        "X_train_selected = X_train[colunas]\n",
        "X_test_selected = X_test[colunas].fillna(0)"
      ]
    },
    {
      "cell_type": "markdown",
      "id": "03f69b41",
      "metadata": {
        "papermill": {
          "duration": 0.007309,
          "end_time": "2023-05-27T17:04:19.061949",
          "exception": false,
          "start_time": "2023-05-27T17:04:19.054640",
          "status": "completed"
        },
        "tags": [],
        "id": "03f69b41"
      },
      "source": [
        "## Escolha de Modelo"
      ]
    },
    {
      "cell_type": "markdown",
      "id": "af4bb32b",
      "metadata": {
        "papermill": {
          "duration": 0.007426,
          "end_time": "2023-05-27T17:04:19.076979",
          "exception": false,
          "start_time": "2023-05-27T17:04:19.069553",
          "status": "completed"
        },
        "tags": [],
        "id": "af4bb32b"
      },
      "source": [
        "### escolhido um modelo qualquer sem nenhum tuning de parametro"
      ]
    },
    {
      "cell_type": "code",
      "execution_count": null,
      "id": "2b60e2b0",
      "metadata": {
        "execution": {
          "iopub.execute_input": "2023-05-27T17:04:19.093805Z",
          "iopub.status.busy": "2023-05-27T17:04:19.093459Z",
          "iopub.status.idle": "2023-05-27T17:04:19.097847Z",
          "shell.execute_reply": "2023-05-27T17:04:19.096847Z"
        },
        "papermill": {
          "duration": 0.015103,
          "end_time": "2023-05-27T17:04:19.099697",
          "exception": false,
          "start_time": "2023-05-27T17:04:19.084594",
          "status": "completed"
        },
        "tags": [],
        "id": "2b60e2b0"
      },
      "outputs": [],
      "source": [
        "reg = LinearRegression()"
      ]
    },
    {
      "cell_type": "markdown",
      "id": "562ae6a0",
      "metadata": {
        "papermill": {
          "duration": 0.00729,
          "end_time": "2023-05-27T17:04:19.114794",
          "exception": false,
          "start_time": "2023-05-27T17:04:19.107504",
          "status": "completed"
        },
        "tags": [],
        "id": "562ae6a0"
      },
      "source": [
        "## Métrica de Avaliação"
      ]
    },
    {
      "cell_type": "markdown",
      "id": "e817a484",
      "metadata": {
        "papermill": {
          "duration": 0.007369,
          "end_time": "2023-05-27T17:04:19.129737",
          "exception": false,
          "start_time": "2023-05-27T17:04:19.122368",
          "status": "completed"
        },
        "tags": [],
        "id": "e817a484"
      },
      "source": [
        "## No projeto do Titanic, que era de classificação, foi escolhido a métrica de acurácia, dada por:\n",
        "### $$\\text{acurácia} = \\frac{\\text{número de acertos}}{\\text{total}}$$\n",
        "\n",
        "## Neste projeto por ser de regressão as métricas são diferentes, e a escolhida foi o Erro Quadrático Médio (EQM ou MSE em inglês), dado por: \n",
        "### $$EQM = \\frac{1}{n} \\sum_{i=1}^{n} (y_i - \\hat{y_i})^2$$\n",
        "#### $$y_i: \\text{target da base de teste}, \\quad \\hat{y_i}: \\text{target da predição do modelo}$$"
      ]
    },
    {
      "cell_type": "markdown",
      "id": "b24d112e",
      "metadata": {
        "papermill": {
          "duration": 0.00735,
          "end_time": "2023-05-27T17:04:19.144616",
          "exception": false,
          "start_time": "2023-05-27T17:04:19.137266",
          "status": "completed"
        },
        "tags": [],
        "id": "b24d112e"
      },
      "source": [
        "## No projeto do titanic, quanto maior a acurácia (mais próximo de 100%), melhor era a predição. \n",
        "## Neste projeto, por usar uma métrica de erro, quanto menor (mais próximo de 0) melhor a predição."
      ]
    },
    {
      "cell_type": "code",
      "execution_count": null,
      "id": "43bd1728",
      "metadata": {
        "execution": {
          "iopub.execute_input": "2023-05-27T17:04:19.162099Z",
          "iopub.status.busy": "2023-05-27T17:04:19.160998Z",
          "iopub.status.idle": "2023-05-27T17:04:19.233690Z",
          "shell.execute_reply": "2023-05-27T17:04:19.232724Z"
        },
        "papermill": {
          "duration": 0.083606,
          "end_time": "2023-05-27T17:04:19.235867",
          "exception": false,
          "start_time": "2023-05-27T17:04:19.152261",
          "status": "completed"
        },
        "tags": [],
        "id": "43bd1728",
        "outputId": "a0c7ce46-263f-47b6-a606-36d4df70b0b1"
      },
      "outputs": [
        {
          "data": {
            "text/plain": [
              "38.110651365350385"
            ]
          },
          "execution_count": 13,
          "metadata": {},
          "output_type": "execute_result"
        }
      ],
      "source": [
        "scores = cross_val_score(reg, X_train_selected, y_train, cv=10, scoring='neg_mean_squared_error')\n",
        "scores_medio = -scores.mean()\n",
        "scores_medio"
      ]
    },
    {
      "cell_type": "markdown",
      "id": "ecdc14df",
      "metadata": {
        "papermill": {
          "duration": 0.008033,
          "end_time": "2023-05-27T17:04:19.251876",
          "exception": false,
          "start_time": "2023-05-27T17:04:19.243843",
          "status": "completed"
        },
        "tags": [],
        "id": "ecdc14df"
      },
      "source": [
        "# Apenas no final de tudo aplica a predição no y_test:"
      ]
    },
    {
      "cell_type": "code",
      "execution_count": null,
      "id": "ec674761",
      "metadata": {
        "execution": {
          "iopub.execute_input": "2023-05-27T17:04:19.269808Z",
          "iopub.status.busy": "2023-05-27T17:04:19.269440Z",
          "iopub.status.idle": "2023-05-27T17:04:19.283933Z",
          "shell.execute_reply": "2023-05-27T17:04:19.283168Z"
        },
        "papermill": {
          "duration": 0.026052,
          "end_time": "2023-05-27T17:04:19.285857",
          "exception": false,
          "start_time": "2023-05-27T17:04:19.259805",
          "status": "completed"
        },
        "tags": [],
        "id": "ec674761",
        "outputId": "b27374df-7eae-4bf1-cfed-909b2e38acac"
      },
      "outputs": [
        {
          "data": {
            "text/html": [
              "<style>#sk-container-id-1 {color: black;background-color: white;}#sk-container-id-1 pre{padding: 0;}#sk-container-id-1 div.sk-toggleable {background-color: white;}#sk-container-id-1 label.sk-toggleable__label {cursor: pointer;display: block;width: 100%;margin-bottom: 0;padding: 0.3em;box-sizing: border-box;text-align: center;}#sk-container-id-1 label.sk-toggleable__label-arrow:before {content: \"▸\";float: left;margin-right: 0.25em;color: #696969;}#sk-container-id-1 label.sk-toggleable__label-arrow:hover:before {color: black;}#sk-container-id-1 div.sk-estimator:hover label.sk-toggleable__label-arrow:before {color: black;}#sk-container-id-1 div.sk-toggleable__content {max-height: 0;max-width: 0;overflow: hidden;text-align: left;background-color: #f0f8ff;}#sk-container-id-1 div.sk-toggleable__content pre {margin: 0.2em;color: black;border-radius: 0.25em;background-color: #f0f8ff;}#sk-container-id-1 input.sk-toggleable__control:checked~div.sk-toggleable__content {max-height: 200px;max-width: 100%;overflow: auto;}#sk-container-id-1 input.sk-toggleable__control:checked~label.sk-toggleable__label-arrow:before {content: \"▾\";}#sk-container-id-1 div.sk-estimator input.sk-toggleable__control:checked~label.sk-toggleable__label {background-color: #d4ebff;}#sk-container-id-1 div.sk-label input.sk-toggleable__control:checked~label.sk-toggleable__label {background-color: #d4ebff;}#sk-container-id-1 input.sk-hidden--visually {border: 0;clip: rect(1px 1px 1px 1px);clip: rect(1px, 1px, 1px, 1px);height: 1px;margin: -1px;overflow: hidden;padding: 0;position: absolute;width: 1px;}#sk-container-id-1 div.sk-estimator {font-family: monospace;background-color: #f0f8ff;border: 1px dotted black;border-radius: 0.25em;box-sizing: border-box;margin-bottom: 0.5em;}#sk-container-id-1 div.sk-estimator:hover {background-color: #d4ebff;}#sk-container-id-1 div.sk-parallel-item::after {content: \"\";width: 100%;border-bottom: 1px solid gray;flex-grow: 1;}#sk-container-id-1 div.sk-label:hover label.sk-toggleable__label {background-color: #d4ebff;}#sk-container-id-1 div.sk-serial::before {content: \"\";position: absolute;border-left: 1px solid gray;box-sizing: border-box;top: 0;bottom: 0;left: 50%;z-index: 0;}#sk-container-id-1 div.sk-serial {display: flex;flex-direction: column;align-items: center;background-color: white;padding-right: 0.2em;padding-left: 0.2em;position: relative;}#sk-container-id-1 div.sk-item {position: relative;z-index: 1;}#sk-container-id-1 div.sk-parallel {display: flex;align-items: stretch;justify-content: center;background-color: white;position: relative;}#sk-container-id-1 div.sk-item::before, #sk-container-id-1 div.sk-parallel-item::before {content: \"\";position: absolute;border-left: 1px solid gray;box-sizing: border-box;top: 0;bottom: 0;left: 50%;z-index: -1;}#sk-container-id-1 div.sk-parallel-item {display: flex;flex-direction: column;z-index: 1;position: relative;background-color: white;}#sk-container-id-1 div.sk-parallel-item:first-child::after {align-self: flex-end;width: 50%;}#sk-container-id-1 div.sk-parallel-item:last-child::after {align-self: flex-start;width: 50%;}#sk-container-id-1 div.sk-parallel-item:only-child::after {width: 0;}#sk-container-id-1 div.sk-dashed-wrapped {border: 1px dashed gray;margin: 0 0.4em 0.5em 0.4em;box-sizing: border-box;padding-bottom: 0.4em;background-color: white;}#sk-container-id-1 div.sk-label label {font-family: monospace;font-weight: bold;display: inline-block;line-height: 1.2em;}#sk-container-id-1 div.sk-label-container {text-align: center;}#sk-container-id-1 div.sk-container {/* jupyter's `normalize.less` sets `[hidden] { display: none; }` but bootstrap.min.css set `[hidden] { display: none !important; }` so we also need the `!important` here to be able to override the default hidden behavior on the sphinx rendered scikit-learn.org. See: https://github.com/scikit-learn/scikit-learn/issues/21755 */display: inline-block !important;position: relative;}#sk-container-id-1 div.sk-text-repr-fallback {display: none;}</style><div id=\"sk-container-id-1\" class=\"sk-top-container\"><div class=\"sk-text-repr-fallback\"><pre>LinearRegression()</pre><b>In a Jupyter environment, please rerun this cell to show the HTML representation or trust the notebook. <br />On GitHub, the HTML representation is unable to render, please try loading this page with nbviewer.org.</b></div><div class=\"sk-container\" hidden><div class=\"sk-item\"><div class=\"sk-estimator sk-toggleable\"><input class=\"sk-toggleable__control sk-hidden--visually\" id=\"sk-estimator-id-1\" type=\"checkbox\" checked><label for=\"sk-estimator-id-1\" class=\"sk-toggleable__label sk-toggleable__label-arrow\">LinearRegression</label><div class=\"sk-toggleable__content\"><pre>LinearRegression()</pre></div></div></div></div></div>"
            ],
            "text/plain": [
              "LinearRegression()"
            ]
          },
          "execution_count": 14,
          "metadata": {},
          "output_type": "execute_result"
        }
      ],
      "source": [
        "reg.fit(X_train_selected, y_train)"
      ]
    },
    {
      "cell_type": "code",
      "execution_count": null,
      "id": "7f32755d",
      "metadata": {
        "execution": {
          "iopub.execute_input": "2023-05-27T17:04:19.303803Z",
          "iopub.status.busy": "2023-05-27T17:04:19.303115Z",
          "iopub.status.idle": "2023-05-27T17:04:19.315741Z",
          "shell.execute_reply": "2023-05-27T17:04:19.314985Z"
        },
        "papermill": {
          "duration": 0.023814,
          "end_time": "2023-05-27T17:04:19.317687",
          "exception": false,
          "start_time": "2023-05-27T17:04:19.293873",
          "status": "completed"
        },
        "tags": [],
        "id": "7f32755d",
        "outputId": "2fc9432f-75bf-48e7-ce77-652c0bbf1b12"
      },
      "outputs": [
        {
          "data": {
            "text/plain": [
              "array([70.72172515, 62.85854743, 76.64781905, 75.95739592, 58.40925526,\n",
              "       64.08601702, 72.00661597, 76.49444237, 73.86693542, 74.86426397,\n",
              "       71.77647492, 76.41767801, 62.53260298, 65.52443657, 68.99559129,\n",
              "       72.29433029, 74.94102833, 75.47792274, 78.02881737, 68.05598806,\n",
              "       64.2585848 , 75.97658701, 41.28286246, 66.69418084, 69.5135987 ,\n",
              "       65.12172775, 66.73256302, 74.99844956, 65.4476722 , 79.7356081 ,\n",
              "       69.03397347, 68.4203147 , 58.33249089, 69.70520552, 74.86426397,\n",
              "       48.99266349, 72.25594811, 62.09151198, 41.28286246, 68.68883793,\n",
              "       58.00654644, 74.82588178, 73.13828215, 41.18690701, 52.25302031,\n",
              "       68.15179147, 75.49726587, 62.01474762, 72.94652328, 61.24756012,\n",
              "       70.43416288, 70.08887529, 58.1983053 , 54.09414867, 69.95453765,\n",
              "       73.0231356 , 69.01478238, 71.2587716 , 70.99024838, 51.23650067,\n",
              "       66.61756852, 63.52993152, 52.27205936, 64.91062575, 65.62023998,\n",
              "       78.98761169, 61.86121889, 59.46400503, 71.35472706, 73.09989997,\n",
              "       69.66697538, 78.66151519, 71.6998626 , 78.5273296 , 66.42580966,\n",
              "       70.68334297, 75.01764065, 73.86693542, 66.71352397, 70.91348402,\n",
              "       72.96556233, 74.84507287, 70.43401083, 64.64225457, 76.41767801,\n",
              "       68.0942182 , 70.93267511, 72.81218565, 73.38761428, 41.24448028,\n",
              "       55.70498394, 77.5301531 , 73.19570338, 75.43954056, 75.13278719,\n",
              "       61.45866211, 71.37376611, 67.78746484, 56.60650908, 81.59592755,\n",
              "       74.11626756, 56.66393031, 73.96289087, 72.06418924, 65.12157571,\n",
              "       74.28883533, 62.35988316, 69.49425556, 64.71886689, 60.00105148,\n",
              "       80.11912582, 70.60657861, 77.77933319, 65.85038102, 70.33820742,\n",
              "       88.78787322, 77.33824219, 73.75194092, 60.48052466, 72.63961788,\n",
              "       41.16771592, 70.14629652, 71.66148042, 67.38475602, 69.1875022 ,\n",
              "       69.11073784, 67.78746484, 73.13813011, 69.82035206, 74.28883533,\n",
              "       67.90245934, 65.96552757, 62.59002421, 75.01779269, 81.78768641,\n",
              "       72.31352138, 77.31920314, 71.52729483, 74.9986016 , 77.97109205,\n",
              "       74.15464974, 70.33820742, 62.53260298, 77.16567442, 70.87510183,\n",
              "       67.2120362 , 78.45071728, 62.12974212, 85.3356055 , 41.43639118,\n",
              "       56.16541808, 69.68616647, 58.85034626, 80.79035787, 41.35962682,\n",
              "       76.8779601 , 70.97105729, 78.43152619, 59.8476748 , 67.67247033,\n",
              "       73.00394451, 56.51055362, 71.16281615, 62.83950839, 41.43639118,\n",
              "       69.05331661, 64.54629911, 65.15995789, 41.35962682, 70.8176806 ,\n",
              "       41.37881791, 64.20101152, 51.77354713, 73.84774433, 74.55735856,\n",
              "       62.20650648, 58.88872844, 81.67253987, 57.94897317, 66.67514179,\n",
              "       41.16771592, 63.52993152, 65.81215088, 70.70253406, 70.64496079,\n",
              "       75.4396926 , 66.27228093, 72.60123569, 76.7629656 , 74.26979628,\n",
              "       70.05049311, 73.1573212 , 75.63145146, 62.14893321, 70.1846787 ,\n",
              "       74.11626756, 41.22528919, 79.2945171 , 65.42848111, 61.24756012,\n",
              "       58.79277298, 75.82321033, 41.34043573, 75.15197828, 65.73538652,\n",
              "       72.35190356, 78.77666173, 52.02287926, 65.42848111, 79.04518496,\n",
              "       62.51341189, 66.94366502, 75.72725487, 68.72722011, 76.36025678,\n",
              "       73.38746224, 53.34615226, 80.96292564, 68.63126465, 77.53000105,\n",
              "       78.91099937, 62.66678857, 71.79566602, 66.50242198, 77.70272087,\n",
              "       50.33512758, 69.28345765, 55.58998944, 41.37881791, 81.71092205,\n",
              "       61.82298875, 76.60958892, 68.65045575, 75.38211933, 56.64473921,\n",
              "       59.90509603, 71.58471606, 77.10825319, 74.59574074, 59.38739271,\n",
              "       84.62614332, 71.5848681 , 81.63430973, 74.80669069, 70.03130202,\n",
              "       77.24243878, 71.98757692, 67.84503811, 76.82053887, 56.95164462,\n",
              "       77.54919214, 63.99006157, 69.22588438, 68.32451129, 68.20936475,\n",
              "       79.50546705, 77.37662437, 74.09722851, 80.73293664, 72.39028574,\n",
              "       66.46419184, 68.78479338, 67.00108625, 74.32736955, 55.12970735,\n",
              "       61.65042098, 68.66964684, 65.67781325, 58.90791953, 41.32124464,\n",
              "       79.90817587, 65.73538652, 71.54633388, 75.97658701, 75.42050151,\n",
              "       69.72454865, 57.46949998, 78.7192405 , 72.25610015, 69.95453765,\n",
              "       66.98189516, 49.43375449, 69.60940211, 71.75728383, 58.44748539,\n",
              "       74.05869429, 70.87510183, 73.94369978, 66.67514179, 71.96838583,\n",
              "       65.40929002, 59.02291403, 75.34373715, 68.66964684, 72.48608915,\n",
              "       76.82053887, 41.30205355, 75.57387819, 71.3929572 , 53.40372553,\n",
              "       67.8642292 , 77.58757433, 74.19303192, 72.85056783, 76.62862796,\n",
              "       63.66411711, 63.56816166, 70.54915738, 41.28286246, 41.2060981 ,\n",
              "       75.01764065, 41.43639118, 72.73542129, 85.02885213, 66.04213989,\n",
              "       64.87239561, 64.96819902, 69.32168779, 69.66697538, 67.44232929,\n",
              "       74.92183724, 61.91894421, 70.79848951, 67.21218824, 41.37881791,\n",
              "       74.94102833, 68.66964684, 65.37090784, 41.14852483, 41.43639118,\n",
              "       71.14362506, 72.98475342, 85.27818427, 71.89162147, 70.12725747,\n",
              "       61.1709478 , 61.65026894, 58.90791953, 65.42848111, 64.85305248,\n",
              "       74.97925847, 63.33802062, 68.97655224, 64.68048471, 62.34069207,\n",
              "       66.02310084, 68.01760588, 81.250792  , 70.3957807 , 72.60123569,\n",
              "       70.87525388, 63.52977948, 65.42848111, 72.9081411 , 69.87792533,\n",
              "       67.44232929, 68.28612911, 78.79585282, 52.86667908, 79.48627596,\n",
              "       60.90242457, 70.39562865, 70.77929842, 64.00925266, 60.8448513 ,\n",
              "       77.45338873, 73.71355874, 80.157508  , 68.34370238, 70.99024838,\n",
              "       68.17098256, 72.04499815, 57.3161233 , 41.43639118, 69.28345765,\n",
              "       76.78215669, 79.69722591, 76.47525128, 66.73256302, 70.05049311,\n",
              "       79.92736696, 65.19834007, 78.33557073, 71.54633388, 64.8915867 ,\n",
              "       73.48341769, 75.40131042, 79.75479919, 67.57651488, 73.61775533,\n",
              "       68.3053202 , 60.61471025, 62.14893321, 41.26367137, 69.24507547,\n",
              "       71.89162147, 68.19017365, 70.20402183, 76.37944787, 70.89444497,\n",
              "       64.58468129, 73.38761428, 74.48074624, 67.99841479, 62.45583862,\n",
              "       62.03393871, 65.77361666, 68.57384342, 63.01207616, 41.398009  ,\n",
              "       58.52424976, 41.43639118, 59.80929262, 85.3356055 , 67.5381327 ,\n",
              "       76.36010474, 68.11356133, 66.0229488 , 71.10524288, 78.89180828,\n",
              "       70.6257697 , 75.91916578, 75.19036046, 74.51897638, 41.28286246,\n",
              "       76.14915478, 61.88040998, 83.30287032, 64.16278139, 60.76823898,\n",
              "       76.59039783, 77.97109205, 70.0696842 , 70.74091624, 75.9957781 ,\n",
              "       70.70253406, 80.11912582, 69.51344665, 71.41214829, 41.16771592,\n",
              "       68.26693802, 52.57896476, 76.37929583, 58.85034626, 76.03416028,\n",
              "       67.90261138, 71.75728383, 70.64496079, 73.88627855, 66.7709452 ,\n",
              "       60.74904789, 65.0065812 , 62.45583862, 76.16834587, 68.55450029,\n",
              "       68.55465233, 68.70802902, 65.81199884, 41.37881791, 53.51872004,\n",
              "       65.73538652, 73.13813011, 76.39848692, 69.91630751, 65.79295979,\n",
              "       70.41497179, 71.00943947, 74.9986016 , 49.47213667, 74.53831951,\n",
              "       48.11048149, 77.72191196, 60.69147462, 60.49956371, 69.72454865,\n",
              "       63.99021361, 53.7104789 , 69.22573234, 66.23405079, 73.48341769,\n",
              "       70.72172515, 62.43664753, 68.70802902, 69.22588438, 64.79563125,\n",
              "       70.01211093, 59.82848371, 64.87239561, 71.85323929, 49.26118672,\n",
              "       64.4504957 , 67.38460398, 55.09132517, 68.72722011, 77.93286191,\n",
              "       57.94882112, 63.58735275, 70.01211093, 41.14852483, 61.07499234,\n",
              "       51.60082731, 68.84221461, 66.71352397, 69.93534656, 77.62595651,\n",
              "       72.00676801, 60.00105148, 56.83665012, 76.03416028, 41.35962682,\n",
              "       74.2314141 , 65.75457761, 69.9546897 , 70.37643756, 78.14381187,\n",
              "       78.89165623, 69.41764324, 69.51344665, 41.37881791, 76.11092464,\n",
              "       77.03148882, 67.00108625, 68.22855584, 67.57651488, 71.02863056,\n",
              "       77.91367082, 64.20101152, 77.3190511 , 81.99863637, 68.8614057 ,\n",
              "       77.54934419, 73.31084992, 41.398009  , 66.23389875, 77.76029414,\n",
              "       64.75724907, 72.73542129, 41.398009  , 41.32124464, 59.11871744,\n",
              "       76.89715119, 56.33798585, 71.5848681 , 61.05580125, 75.61226037,\n",
              "       66.52176511, 69.03412552, 62.43664753, 65.69700434, 77.76029414,\n",
              "       77.6451476 , 74.84507287, 71.81485711, 70.89429293, 55.99269826,\n",
              "       63.2422172 , 79.86979369, 58.48586758, 64.54629911, 73.06151778,\n",
              "       51.31326504, 66.3298542 , 67.67231829, 65.90795429, 73.0231356 ,\n",
              "       41.32124464, 77.74095101, 69.97372874, 70.16563965, 72.0259591 ,\n",
              "       71.0668607 , 41.14852483, 77.30001205, 61.36270666, 71.58471606,\n",
              "       60.71066571, 69.43683433, 71.71905369, 68.68883793, 66.73271506,\n",
              "       70.49158411, 70.8176806 , 72.00676801, 62.1681243 , 61.66946003,\n",
              "       58.69681753])"
            ]
          },
          "execution_count": 15,
          "metadata": {},
          "output_type": "execute_result"
        }
      ],
      "source": [
        "y_predict = reg.predict(X_test_selected)\n",
        "y_predict"
      ]
    },
    {
      "cell_type": "code",
      "execution_count": null,
      "id": "36740aa4",
      "metadata": {
        "execution": {
          "iopub.execute_input": "2023-05-27T17:04:19.336882Z",
          "iopub.status.busy": "2023-05-27T17:04:19.336499Z",
          "iopub.status.idle": "2023-05-27T17:04:19.343562Z",
          "shell.execute_reply": "2023-05-27T17:04:19.342549Z"
        },
        "papermill": {
          "duration": 0.01937,
          "end_time": "2023-05-27T17:04:19.345658",
          "exception": false,
          "start_time": "2023-05-27T17:04:19.326288",
          "status": "completed"
        },
        "tags": [],
        "id": "36740aa4",
        "outputId": "a4cff846-a90d-4ce0-e8f7-c23b91808647"
      },
      "outputs": [
        {
          "data": {
            "text/plain": [
              "69.66430815105556"
            ]
          },
          "execution_count": 16,
          "metadata": {},
          "output_type": "execute_result"
        }
      ],
      "source": [
        "mean_squared_error(y_predict, y_test)"
      ]
    },
    {
      "cell_type": "markdown",
      "id": "c905b5bd",
      "metadata": {
        "papermill": {
          "duration": 0.008214,
          "end_time": "2023-05-27T17:04:19.362220",
          "exception": false,
          "start_time": "2023-05-27T17:04:19.354006",
          "status": "completed"
        },
        "tags": [],
        "id": "c905b5bd"
      },
      "source": [
        "### Erro Quadrático Médio obtido: 69,66 anos"
      ]
    },
    {
      "cell_type": "markdown",
      "id": "058ebdfd",
      "metadata": {
        "papermill": {
          "duration": 0.008638,
          "end_time": "2023-05-27T17:04:19.379459",
          "exception": false,
          "start_time": "2023-05-27T17:04:19.370821",
          "status": "completed"
        },
        "tags": [],
        "id": "058ebdfd"
      },
      "source": [
        "## Este notebook tem um modelo muito simples. \n",
        "## A idéia deste projeto é cada conjunto de equipes partir deste notebook e aprofundar **apenas** em uma das etapas:\n",
        "### - Tratamento de dados\n",
        "### - Criação de novas features\n",
        "### - seleção das features\n",
        "### - comparação entre modelos\n",
        "### - tuning do modelo \n",
        "\n",
        "## Para entender o efeito de cada etapa nessa base específica (utilizando a métrica escolhida).\n",
        "## Posteriormente será juntada todas as etapas para ver o efeito conjunto."
      ]
    }
  ],
  "metadata": {
    "kernelspec": {
      "display_name": "Python 3",
      "language": "python",
      "name": "python3"
    },
    "language_info": {
      "codemirror_mode": {
        "name": "ipython",
        "version": 3
      },
      "file_extension": ".py",
      "mimetype": "text/x-python",
      "name": "python",
      "nbconvert_exporter": "python",
      "pygments_lexer": "ipython3",
      "version": "3.10.10"
    },
    "papermill": {
      "default_parameters": {},
      "duration": 13.42495,
      "end_time": "2023-05-27T17:04:20.310209",
      "environment_variables": {},
      "exception": null,
      "input_path": "__notebook__.ipynb",
      "output_path": "__notebook__.ipynb",
      "parameters": {},
      "start_time": "2023-05-27T17:04:06.885259",
      "version": "2.4.0"
    },
    "colab": {
      "provenance": []
    }
  },
  "nbformat": 4,
  "nbformat_minor": 5
}